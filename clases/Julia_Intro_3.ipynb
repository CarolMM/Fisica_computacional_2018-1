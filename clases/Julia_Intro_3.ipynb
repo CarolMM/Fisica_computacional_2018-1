{
 "cells": [
  {
   "cell_type": "markdown",
   "metadata": {},
   "source": [
    "__Ejercicio 1:__ Crear una rutina que calcule las raices de la siguiente ecuación trascendental: \n",
    "$$x \\tan(x)=\\sqrt{A-x^2},$$\n",
    "esta ecuación tiene interes en la física cuántica de particulas en una dimensión, en particular, sus soluciones estan directamente relacionadas con las eigenenergias del _pozo finito cuadrado_, y el número de soluciones posibles es precisamente el número de estados _ligados_ que caben en el pozo.\n",
    "\n",
    "__Nota:__ Usar varias condiciones iniciales $x_0$."
   ]
  },
  {
   "cell_type": "markdown",
   "metadata": {},
   "source": [
    "__Ejercicio 2:__ Una vez concluido este ejercicio, deberán crear un repositorio en _github.com_ llamado \"Fisica\\_Computacional\\_Apellido1\\_Apellido2\", github les dara la opción de inicializarlo con el archivo de _markdown_ _README.md_, github usa este archivo para presenar brevemente de que se trata el repositorio recién creado. \n",
    "\n",
    "1. En ese archivo pongan simplemente \"Tareas de Su_Nombre\".\n",
    "\n",
    "2. Una vez creado el repositorio deberán hacer un git clone en la maquina virtual que proporciona JuliaBox o en su computadora según les convenga.\n",
    "\n",
    "3. Para hacer su primera contribución al repositorio, copiaran el notebook del ejercicio anterior dentro de la carpeta del repositorio.\n",
    "\n",
    "4. Hecho esto hagan `git status` para ver que ha cambiado en nuestro repositorio.\n",
    "\n",
    "5. Luego, con `git add nombre_del_archivo` agregarán el notebook recién creado para que git siga los cambios. Recuerden que se pueden agregar mas archivos según sus necesidades, digamos `git add nombre_del_archivo1 nombre_del_archivo2`\n",
    "\n",
    "6. Luego, con `git commit -m'primer ejercicio de git'` creamos un _nodo_ en la carpeta .git, la cual git usa para darle seguimiento a nuestros archivos. Un _nodo_ constituye un _estado_ de nuestro repositorio, estos son usados para registrar los cambios importantes y tener puntos de control si tenemos que regresar a recuperar algo.\n",
    "\n",
    "7. Finalmente, con `git push` subimos los cambios del repositorio local al remoto, es decir, ahora el repositorio remoto, en _github_ cuenta con el _estado_ más actual de nuestro trabajo. `git push` es lo mismo que `git push origin master` para nuestro caso (el más simple), `origin` es la etiqueta que tiene por defecto la dirección del repositorio remoto, mientras que `master` es la _rama_ del repositorio. Para hacer las cosas simples de momento solo trabajaremos en una rama, es decir, no habrá nodos que se dividan en dos caminos distintos (o más) del repositorio."
   ]
  },
  {
   "cell_type": "markdown",
   "metadata": {},
   "source": [
    "## Mecanismo para entregar las tareas de programación\n",
    "\n",
    "Una vez hecha una tarea, o un ejercicio en clase, se deberán seguir los pasos anteriores para subir sus tareas a su repositorio remoto. Sin embargo, para que los ayudantes sepan cuando revisar si ya hay algo mas dentro, deberán enviarle un correo al ayudante _que toque_ (yo les dire quién) con el asunto #Tarea_Apellidos, y en el cuerpo del correo deberá ir el _enlace_ de su repositorio."
   ]
  },
  {
   "cell_type": "markdown",
   "metadata": {
    "heading_collapsed": true
   },
   "source": [
    "## Graficas usando PyPlot: Ejemplo 1"
   ]
  },
  {
   "cell_type": "code",
   "execution_count": null,
   "metadata": {
    "collapsed": true,
    "hidden": true
   },
   "outputs": [],
   "source": [
    "using PyPlot"
   ]
  },
  {
   "cell_type": "code",
   "execution_count": null,
   "metadata": {
    "collapsed": true,
    "hidden": true
   },
   "outputs": [],
   "source": [
    "x=linspace(-10,10,1000);\n",
    "y=cos.(x);"
   ]
  },
  {
   "cell_type": "code",
   "execution_count": null,
   "metadata": {
    "collapsed": false,
    "hidden": true
   },
   "outputs": [],
   "source": [
    "plot(x,y) # la sintaxis es muy parecida a matlab"
   ]
  },
  {
   "cell_type": "markdown",
   "metadata": {
    "hidden": true
   },
   "source": [
    "* matplotlib brinda mas opciones:"
   ]
  },
  {
   "cell_type": "code",
   "execution_count": null,
   "metadata": {
    "collapsed": false,
    "hidden": true
   },
   "outputs": [],
   "source": [
    "xlabel(\"x\")\n",
    "ylabel(\"y\")\n",
    "title(\"Cos(x)\")\n",
    "grid(\"on\")\n",
    "plot(x,y)"
   ]
  },
  {
   "cell_type": "markdown",
   "metadata": {
    "heading_collapsed": true
   },
   "source": [
    "## Graficas usando PyPlot: Ejemplo 2"
   ]
  },
  {
   "cell_type": "markdown",
   "metadata": {
    "hidden": true
   },
   "source": [
    "En este ejemplo se muestra como converge el metodo de los babilonios a la raiz cuadrada deseada."
   ]
  },
  {
   "cell_type": "code",
   "execution_count": null,
   "metadata": {
    "collapsed": true,
    "hidden": true
   },
   "outputs": [],
   "source": [
    "list=zeros(30);\n",
    "S=10000;\n",
    "x=0.0001;\n",
    "for i in 1:30\n",
    "    x=0.5(x+S/x);\n",
    "    list[i]=x;\n",
    "end"
   ]
  },
  {
   "cell_type": "code",
   "execution_count": null,
   "metadata": {
    "collapsed": true,
    "hidden": true
   },
   "outputs": [],
   "source": [
    "x=linspace(0,35,100);\n",
    "y=S*ones(length(x));"
   ]
  },
  {
   "cell_type": "code",
   "execution_count": null,
   "metadata": {
    "collapsed": false,
    "hidden": true
   },
   "outputs": [],
   "source": [
    "scatter(1:30,list);\n",
    "plot(x,y);\n",
    "xlim(0,30);"
   ]
  },
  {
   "cell_type": "markdown",
   "metadata": {
    "heading_collapsed": true
   },
   "source": [
    "# Usando Julia como CAS llamando a SymPy"
   ]
  },
  {
   "cell_type": "markdown",
   "metadata": {
    "hidden": true
   },
   "source": [
    "Si todavia no contamos con la libreria en nuestra biblioteca, podemos añadirla haciendo:"
   ]
  },
  {
   "cell_type": "code",
   "execution_count": null,
   "metadata": {
    "collapsed": false,
    "hidden": true
   },
   "outputs": [],
   "source": [
    "Pkg.add(\"SymPy\")"
   ]
  },
  {
   "cell_type": "code",
   "execution_count": null,
   "metadata": {
    "collapsed": false,
    "hidden": true
   },
   "outputs": [],
   "source": [
    "using SymPy"
   ]
  },
  {
   "cell_type": "code",
   "execution_count": null,
   "metadata": {
    "collapsed": false,
    "hidden": true
   },
   "outputs": [],
   "source": [
    "x,a,n,m=symbols(\"x,a,n,m\")"
   ]
  },
  {
   "cell_type": "code",
   "execution_count": null,
   "metadata": {
    "collapsed": false,
    "hidden": true
   },
   "outputs": [],
   "source": [
    "typeof(n)"
   ]
  },
  {
   "cell_type": "markdown",
   "metadata": {
    "hidden": true
   },
   "source": [
    "Evaluando la suma sugerida en el exámen"
   ]
  },
  {
   "cell_type": "code",
   "execution_count": null,
   "metadata": {
    "collapsed": false,
    "hidden": true
   },
   "outputs": [],
   "source": [
    "summation(a^n,(n,0,m))"
   ]
  },
  {
   "cell_type": "markdown",
   "metadata": {
    "hidden": true
   },
   "source": [
    "## Cálculo"
   ]
  },
  {
   "cell_type": "code",
   "execution_count": null,
   "metadata": {
    "collapsed": false,
    "hidden": true
   },
   "outputs": [],
   "source": [
    "integrate(x,x)"
   ]
  },
  {
   "cell_type": "code",
   "execution_count": null,
   "metadata": {
    "collapsed": false,
    "hidden": true
   },
   "outputs": [],
   "source": [
    "diff(cos(x),x)"
   ]
  },
  {
   "cell_type": "markdown",
   "metadata": {
    "hidden": true
   },
   "source": [
    "En lo anterior se uso automaticamente la función $\\cos$ del paquete SymPy, la cual es una función simbólica."
   ]
  },
  {
   "cell_type": "code",
   "execution_count": null,
   "metadata": {
    "collapsed": false,
    "hidden": true
   },
   "outputs": [],
   "source": [
    "?SymPy.cos"
   ]
  },
  {
   "cell_type": "markdown",
   "metadata": {
    "hidden": true
   },
   "source": [
    "Solución de ecuaciones diferenciales, por ej.:\n",
    "$$f'(x)+P(x)f(x)=Q(x)$$"
   ]
  },
  {
   "cell_type": "code",
   "execution_count": null,
   "metadata": {
    "collapsed": false,
    "hidden": true
   },
   "outputs": [],
   "source": [
    "f=SymFunction(\"f\");\n",
    "P=SymFunction(\"P\");\n",
    "Q=SymFunction(\"Q\");\n",
    "dsolve(Derivative(f(x), x)+P(x)*f(x)-Q(x))# Solucion de eq. diferenciales"
   ]
  },
  {
   "cell_type": "markdown",
   "metadata": {},
   "source": [
    "# Tarea"
   ]
  },
  {
   "cell_type": "markdown",
   "metadata": {},
   "source": [
    "Terminar los ejercicios que no terminaron en clase"
   ]
  }
 ],
 "metadata": {
  "kernelspec": {
   "display_name": "Julia 0.6.0",
   "language": "julia",
   "name": "julia-0.6"
  },
  "language_info": {
   "file_extension": ".jl",
   "mimetype": "application/julia",
   "name": "julia",
   "version": "0.6.0"
  },
  "latex_envs": {
   "bibliofile": "biblio.bib",
   "cite_by": "apalike",
   "current_citInitial": 1,
   "eqLabelWithNumbers": true,
   "eqNumInitial": 0
  }
 },
 "nbformat": 4,
 "nbformat_minor": 1
}
