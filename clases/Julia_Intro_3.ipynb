{
 "cells": [
  {
   "cell_type": "markdown",
   "metadata": {},
   "source": [
    "__Ejercicio 1:__ Crear una rutina que calcule las raices de la siguiente ecuación trascendental: \n",
    "$$x \\tan(x)=\\sqrt{A-x^2},$$\n",
    "esta ecuación tiene interes en la física cuántica de particulas en una dimensión, en particular, sus soluciones estan directamente relacionadas con las eigenenergias del _pozo finito cuadrado_, y el número de soluciones posibles es precisamente el número de estados _ligados_ que caben en el pozo.\n",
    "\n",
    "__Nota:__ Usar varias condiciones iniciales $x_0$."
   ]
  },
  {
   "cell_type": "markdown",
   "metadata": {},
   "source": [
    "__Ejercicio 2:__ Una vez concluido este ejercicio, deberán crear un repositorio en _github.com_ llamado \"Fisica\\_Computacional\\_Apellido1\\_Apellido2\", github les dara la opción de inicializarlo con el archivo de _markdown_ _README.md_, github usa este archivo para presenar brevemente de que se trata el repositorio recién creado. \n",
    "\n",
    "1. En ese archivo pongan simplemente \"Tareas de Su_Nombre\".\n",
    "\n",
    "2. Una vez creado el repositorio deberán hacer un git clone en la maquina virtual que proporciona JuliaBox o en su computadora según les convenga.\n",
    "\n",
    "3. Para hacer su primera contribución al repositorio, copiaran el notebook del ejercicio anterior dentro de la carpeta del repositorio.\n",
    "\n",
    "4. Hecho esto hagan `git status` para ver que ha cambiado en nuestro repositorio.\n",
    "\n",
    "5. Luego, con `git add nombre_del_archivo` agregarán el notebook recién creado para que git siga los cambios. Recuerden que se pueden agregar mas archivos según sus necesidades, digamos `git add nombre_del_archivo1 nombre_del_archivo2`\n",
    "\n",
    "6. Luego, con `git commit -m'primer ejercicio de git'` creamos un _nodo_ en la carpeta .git, la cual git usa para darle seguimiento a nuestros archivos. Un _nodo_ constituye un _estado_ de nuestro repositorio, estos son usados para registrar los cambios importantes y tener puntos de control si tenemos que regresar a recuperar algo.\n",
    "\n",
    "7. Finalmente, con `git push` subimos los cambios del repositorio local al remoto, es decir, ahora el repositorio remoto, en _github_ cuenta con el _estado_ más actual de nuestro trabajo. `git push` es lo mismo que `git push origin master` para nuestro caso (el más simple), `origin` es la etiqueta que tiene por defecto la dirección del repositorio remoto, mientras que `master` es la _rama_ del repositorio. Para hacer las cosas simples de momento solo trabajaremos en una rama, es decir, no habrá nodos que se dividan en dos caminos distintos (o más) del repositorio.\n",
    "\n",
    "__Nota:__ Una vez creado el repositorio, manden el _link_ a Lorena. La idea es que solo manden esto una vez, y cuando se llegue la fecha en que la nueva tarea debe estar en el repositorio, los ayudantes o el profesor simplemente revisen su repositorio."
   ]
  },
  {
   "cell_type": "markdown",
   "metadata": {},
   "source": [
    "## Mecanismo para entregar las tareas de programación\n",
    "\n",
    "Una vez hecha una tarea, o un ejercicio en clase, se deberán seguir los pasos anteriores para subir sus tareas a su repositorio remoto. Sin embargo, para que los ayudantes sepan cuando revisar si ya hay algo mas dentro, deberán enviarle un correo al ayudante _que toque_ (yo les dire quién) con el asunto #Tarea_Apellidos, y en el cuerpo del correo deberá ir el _enlace_ de su repositorio."
   ]
  },
  {
   "cell_type": "markdown",
   "metadata": {
    "heading_collapsed": true
   },
   "source": [
    "## Graficas usando PyPlot: Ejemplo 1"
   ]
  },
  {
   "cell_type": "code",
   "execution_count": 18,
   "metadata": {
    "hidden": true
   },
   "outputs": [
    {
     "name": "stderr",
     "output_type": "stream",
     "text": [
      "\u001b[1m\u001b[36mINFO: \u001b[39m\u001b[22m\u001b[36mInstalling PyQt5 via Anaconda's /home/david/anaconda3/bin/conda...\n",
      "\u001b[39m"
     ]
    },
    {
     "name": "stdout",
     "output_type": "stream",
     "text": [
      "Fetching package metadata .........\n",
      "Solving package specifications: .\n",
      "\n",
      "# All requested packages already installed.\n",
      "# packages in environment at /home/david/anaconda3:\n",
      "#\n",
      "pyqt                      4.11.4                   py34_4  \n"
     ]
    }
   ],
   "source": [
    "using PyPlot"
   ]
  },
  {
   "cell_type": "code",
   "execution_count": null,
   "metadata": {
    "collapsed": true,
    "hidden": true
   },
   "outputs": [],
   "source": [
    "x=linspace(-10,10,1000);\n",
    "y=cos.(x);"
   ]
  },
  {
   "cell_type": "code",
   "execution_count": null,
   "metadata": {
    "collapsed": true,
    "hidden": true
   },
   "outputs": [],
   "source": [
    "plot(x,y) # la sintaxis es muy parecida a matlab"
   ]
  },
  {
   "cell_type": "markdown",
   "metadata": {
    "hidden": true
   },
   "source": [
    "* matplotlib brinda mas opciones:"
   ]
  },
  {
   "cell_type": "code",
   "execution_count": null,
   "metadata": {
    "collapsed": true,
    "hidden": true
   },
   "outputs": [],
   "source": [
    "xlabel(\"x\")\n",
    "ylabel(\"y\")\n",
    "title(\"Cos(x)\")\n",
    "grid(\"on\")\n",
    "plot(x,y)"
   ]
  },
  {
   "cell_type": "markdown",
   "metadata": {
    "heading_collapsed": true
   },
   "source": [
    "## Graficas usando PyPlot: Ejemplo 2"
   ]
  },
  {
   "cell_type": "markdown",
   "metadata": {
    "hidden": true
   },
   "source": [
    "En este ejemplo se muestra como converge el metodo de los babilonios a la raiz cuadrada deseada."
   ]
  },
  {
   "cell_type": "code",
   "execution_count": null,
   "metadata": {
    "collapsed": true,
    "hidden": true
   },
   "outputs": [],
   "source": [
    "list=zeros(30);\n",
    "S=10000;\n",
    "x=0.0001;\n",
    "for i in 1:30\n",
    "    x=0.5(x+S/x);\n",
    "    list[i]=x;\n",
    "end"
   ]
  },
  {
   "cell_type": "code",
   "execution_count": null,
   "metadata": {
    "collapsed": true,
    "hidden": true
   },
   "outputs": [],
   "source": [
    "x=linspace(0,35,100);\n",
    "y=S*ones(length(x));"
   ]
  },
  {
   "cell_type": "code",
   "execution_count": null,
   "metadata": {
    "collapsed": true,
    "hidden": true
   },
   "outputs": [],
   "source": [
    "scatter(1:30,list);\n",
    "plot(x,y);\n",
    "xlim(0,30);"
   ]
  },
  {
   "cell_type": "markdown",
   "metadata": {
    "heading_collapsed": true
   },
   "source": [
    "## Graficas usando PyPlot: Ejemplo 3"
   ]
  },
  {
   "cell_type": "markdown",
   "metadata": {
    "hidden": true
   },
   "source": [
    "Gráfica que muestra las intersecciones de $x \\tan(x)$ y $\\sqrt(A-x^2)$"
   ]
  },
  {
   "cell_type": "code",
   "execution_count": 33,
   "metadata": {
    "collapsed": true,
    "hidden": true
   },
   "outputs": [],
   "source": [
    "x=linspace(-10,10,10000);\n",
    "y1=sqrt.(100.0-x.^2 +im-im);\n",
    "y2=x.*tan.(x);\n",
    "y3=y2-y1;"
   ]
  },
  {
   "cell_type": "code",
   "execution_count": 32,
   "metadata": {
    "hidden": true
   },
   "outputs": [
    {
     "data": {
      "image/png": "[encoded data removed]",
      "text/plain": [
       "PyPlot.Figure(PyObject <matplotlib.figure.Figure object at 0x7f4a76339cf8>)"
      ]
     },
     "metadata": {},
     "output_type": "display_data"
    }
   ],
   "source": [
    "plot(x,y1)\n",
    "plot(x,y2)\n",
    "ylim(0,20)\n",
    "show()"
   ]
  },
  {
   "cell_type": "code",
   "execution_count": 37,
   "metadata": {
    "hidden": true
   },
   "outputs": [
    {
     "data": {
      "image/png": "[encoded data removed]",
      "text/plain": [
       "PyPlot.Figure(PyObject <matplotlib.figure.Figure object at 0x7f4a762f4438>)"
      ]
     },
     "metadata": {},
     "output_type": "display_data"
    }
   ],
   "source": [
    "plot(x,y3)\n",
    "ylim(-10,10)\n",
    "show()"
   ]
  },
  {
   "cell_type": "markdown",
   "metadata": {
    "heading_collapsed": true
   },
   "source": [
    "# Usando Julia como CAS llamando a SymPy"
   ]
  },
  {
   "cell_type": "markdown",
   "metadata": {
    "hidden": true
   },
   "source": [
    "Si todavia no contamos con la libreria en nuestra biblioteca, podemos añadirla haciendo:"
   ]
  },
  {
   "cell_type": "code",
   "execution_count": 1,
   "metadata": {
    "collapsed": true,
    "hidden": true
   },
   "outputs": [],
   "source": [
    "using SymPy"
   ]
  },
  {
   "cell_type": "markdown",
   "metadata": {
    "hidden": true
   },
   "source": [
    "Primero definimos las variables simbólicas que vamos a usar:"
   ]
  },
  {
   "cell_type": "code",
   "execution_count": 61,
   "metadata": {
    "hidden": true
   },
   "outputs": [
    {
     "data": {
      "text/plain": [
       "(A, x, a, n, m)"
      ]
     },
     "execution_count": 61,
     "metadata": {},
     "output_type": "execute_result"
    }
   ],
   "source": [
    "A,x,a,n,m=Sym(\"A,x,a,n,m\")"
   ]
  },
  {
   "cell_type": "code",
   "execution_count": 5,
   "metadata": {
    "hidden": true
   },
   "outputs": [
    {
     "data": {
      "text/plain": [
       "SymPy.Sym"
      ]
     },
     "execution_count": 5,
     "metadata": {},
     "output_type": "execute_result"
    }
   ],
   "source": [
    "typeof(n)"
   ]
  },
  {
   "cell_type": "markdown",
   "metadata": {
    "hidden": true
   },
   "source": [
    "Evaluando la suma sugerida en el exámen"
   ]
  },
  {
   "cell_type": "code",
   "execution_count": 6,
   "metadata": {
    "hidden": true
   },
   "outputs": [
    {
     "data": {
      "text/latex": [
       "$$\\begin{cases} m + 1 & \\text{for}\\: a = 1 \\\\\\frac{- a^{m + 1} + 1}{- a + 1} & \\text{otherwise} \\end{cases}$$"
      ],
      "text/plain": [
       "⎧   m + 1      for a = 1\n",
       "⎪                       \n",
       "⎪   m + 1               \n",
       "⎨- a      + 1           \n",
       "⎪────────────  otherwise\n",
       "⎪   -a + 1              \n",
       "⎩                       "
      ]
     },
     "execution_count": 6,
     "metadata": {},
     "output_type": "execute_result"
    }
   ],
   "source": [
    "summation(a^n,(n,0,m))"
   ]
  },
  {
   "cell_type": "markdown",
   "metadata": {
    "hidden": true
   },
   "source": [
    "## Cálculo"
   ]
  },
  {
   "cell_type": "code",
   "execution_count": 7,
   "metadata": {
    "hidden": true
   },
   "outputs": [
    {
     "data": {
      "text/latex": [
       "$$\\frac{x^{2}}{2}$$"
      ],
      "text/plain": [
       " 2\n",
       "x \n",
       "──\n",
       "2 "
      ]
     },
     "execution_count": 7,
     "metadata": {},
     "output_type": "execute_result"
    }
   ],
   "source": [
    "integrate(x,x)"
   ]
  },
  {
   "cell_type": "code",
   "execution_count": 16,
   "metadata": {
    "hidden": true
   },
   "outputs": [
    {
     "data": {
      "text/latex": [
       "$$\\cos{\\left (x \\right )}$$"
      ],
      "text/plain": [
       "cos(x)"
      ]
     },
     "execution_count": 16,
     "metadata": {},
     "output_type": "execute_result"
    }
   ],
   "source": [
    "diff(sin(x),x)"
   ]
  },
  {
   "cell_type": "markdown",
   "metadata": {
    "hidden": true
   },
   "source": [
    "Si $x$ es simbólica y llamamos al $\\sin$, Julia autómaticamente usa la función apropiada:"
   ]
  },
  {
   "cell_type": "code",
   "execution_count": 17,
   "metadata": {
    "hidden": true
   },
   "outputs": [
    {
     "data": {
      "text/plain": [
       "SymPy.Sym"
      ]
     },
     "execution_count": 17,
     "metadata": {},
     "output_type": "execute_result"
    }
   ],
   "source": [
    "typeof(ans)"
   ]
  },
  {
   "cell_type": "code",
   "execution_count": 18,
   "metadata": {
    "hidden": true
   },
   "outputs": [
    {
     "data": {
      "text/markdown": [
       "```\n",
       "sin(x)\n",
       "```\n",
       "\n",
       "Compute sine of `x`, where `x` is in radians.\n",
       "\n",
       "`sin`: a SymPy function. The SymPy documentation can be found through: http://docs.sympy.org/latest/search.html?q=sin\n"
      ],
      "text/plain": [
       "```\n",
       "sin(x)\n",
       "```\n",
       "\n",
       "Compute sine of `x`, where `x` is in radians.\n",
       "\n",
       "`sin`: a SymPy function. The SymPy documentation can be found through: http://docs.sympy.org/latest/search.html?q=sin\n"
      ]
     },
     "execution_count": 18,
     "metadata": {},
     "output_type": "execute_result"
    }
   ],
   "source": [
    "?SymPy.sin"
   ]
  },
  {
   "cell_type": "markdown",
   "metadata": {
    "hidden": true
   },
   "source": [
    "La función que tenian que derivar a mano para el ejercicio del método de Newton-Raphson"
   ]
  },
  {
   "cell_type": "code",
   "execution_count": 25,
   "metadata": {
    "hidden": true
   },
   "outputs": [
    {
     "data": {
      "text/latex": [
       "$$\\frac{x}{\\cos^{2}{\\left (x \\right )}} + \\frac{x}{\\sqrt{- x^{2} + 10.0}} + \\tan{\\left (x \\right )}$$"
      ],
      "text/plain": [
       "   x             x                 \n",
       "─────── + ──────────────── + tan(x)\n",
       "   2         _____________         \n",
       "cos (x)     ╱    2                 \n",
       "          ╲╱  - x  + 10.0          "
      ]
     },
     "execution_count": 25,
     "metadata": {},
     "output_type": "execute_result"
    }
   ],
   "source": [
    "f=simplify(diff(x*tan(x)-sqrt(A-x^2),x))"
   ]
  },
  {
   "cell_type": "markdown",
   "metadata": {
    "hidden": true
   },
   "source": [
    "## Conversión de funciones"
   ]
  },
  {
   "cell_type": "markdown",
   "metadata": {
    "hidden": true
   },
   "source": [
    "El siguiente comando convierte una funcion de SymPy en una funcion de Julia:"
   ]
  },
  {
   "cell_type": "code",
   "execution_count": 29,
   "metadata": {
    "hidden": true
   },
   "outputs": [
    {
     "data": {
      "text/latex": [
       "$$\\frac{x}{\\cos^{2}{\\left (x \\right )}} + \\frac{x}{\\sqrt{- x^{2} + 10.0}} + \\frac{\\sin{\\left (2 x \\right )}}{2 \\cos^{2}{\\left (x \\right )}}$$"
      ],
      "text/plain": [
       "   x             x            sin(2⋅x)\n",
       "─────── + ──────────────── + ─────────\n",
       "   2         _____________        2   \n",
       "cos (x)     ╱    2           2⋅cos (x)\n",
       "          ╲╱  - x  + 10.0             "
      ]
     },
     "execution_count": 29,
     "metadata": {},
     "output_type": "execute_result"
    }
   ],
   "source": [
    "A=10.0;simplify(f(x))"
   ]
  },
  {
   "cell_type": "markdown",
   "metadata": {
    "hidden": true
   },
   "source": [
    "Uno puede evaluar directamente la función en un valor númerico, sin embargo el _output_ sigue siendo un objeto simbólico:"
   ]
  },
  {
   "cell_type": "code",
   "execution_count": 47,
   "metadata": {
    "hidden": true
   },
   "outputs": [
    {
     "data": {
      "text/latex": [
       "$$0.232979976586117$$"
      ],
      "text/plain": [
       "0.232979976586117"
      ]
     },
     "execution_count": 47,
     "metadata": {},
     "output_type": "execute_result"
    }
   ],
   "source": [
    "f(0.1)"
   ]
  },
  {
   "cell_type": "code",
   "execution_count": 49,
   "metadata": {
    "hidden": true
   },
   "outputs": [
    {
     "data": {
      "text/plain": [
       "SymPy.Sym"
      ]
     },
     "execution_count": 49,
     "metadata": {},
     "output_type": "execute_result"
    }
   ],
   "source": [
    "typeof(ans)"
   ]
  },
  {
   "cell_type": "markdown",
   "metadata": {
    "hidden": true
   },
   "source": [
    "Podemos pasar el resultado a otra función y se sigue tratando como un objeto simbólico:"
   ]
  },
  {
   "cell_type": "code",
   "execution_count": 50,
   "metadata": {
    "hidden": true
   },
   "outputs": [
    {
     "data": {
      "text/latex": [
       "$$0.97298270512618$$"
      ],
      "text/plain": [
       "0.972982705126180"
      ]
     },
     "execution_count": 50,
     "metadata": {},
     "output_type": "execute_result"
    }
   ],
   "source": [
    "cos(f(0.1))"
   ]
  },
  {
   "cell_type": "markdown",
   "metadata": {
    "hidden": true
   },
   "source": [
    "Con la función _lambify_ podemos convertir una función de SymPy directamente en una función de Julia,típicamente hacer esto nos permite hacer rutinas mas eficientes:"
   ]
  },
  {
   "cell_type": "code",
   "execution_count": 51,
   "metadata": {
    "hidden": true
   },
   "outputs": [],
   "source": [
    "fjulia=lambdify(f,[x]);"
   ]
  },
  {
   "cell_type": "code",
   "execution_count": 54,
   "metadata": {
    "hidden": true
   },
   "outputs": [
    {
     "data": {
      "text/plain": [
       "0.23297997658611666"
      ]
     },
     "execution_count": 54,
     "metadata": {},
     "output_type": "execute_result"
    }
   ],
   "source": [
    "fjulia(0.1)"
   ]
  },
  {
   "cell_type": "code",
   "execution_count": 55,
   "metadata": {
    "hidden": true
   },
   "outputs": [
    {
     "data": {
      "text/plain": [
       "Float64"
      ]
     },
     "execution_count": 55,
     "metadata": {},
     "output_type": "execute_result"
    }
   ],
   "source": [
    "typeof(ans)"
   ]
  },
  {
   "cell_type": "markdown",
   "metadata": {
    "hidden": true
   },
   "source": [
    "Podemos comprobar que todo salio bien haciendo la derivada númerica:"
   ]
  },
  {
   "cell_type": "code",
   "execution_count": 38,
   "metadata": {
    "hidden": true
   },
   "outputs": [
    {
     "data": {
      "text/plain": [
       "ff (generic function with 1 method)"
      ]
     },
     "execution_count": 38,
     "metadata": {},
     "output_type": "execute_result"
    }
   ],
   "source": [
    "function ff(x)\n",
    "    A=10.0\n",
    "    return  x*tan(x)-sqrt(A-x^2)\n",
    "end"
   ]
  },
  {
   "cell_type": "code",
   "execution_count": 56,
   "metadata": {
    "hidden": true
   },
   "outputs": [
    {
     "data": {
      "text/plain": [
       "0.2341586674305951"
      ]
     },
     "execution_count": 56,
     "metadata": {},
     "output_type": "execute_result"
    }
   ],
   "source": [
    "(ff(0.1+0.001)-ff(0.1))/0.001"
   ]
  },
  {
   "cell_type": "markdown",
   "metadata": {
    "hidden": true
   },
   "source": [
    "Si queremos convertir funciones de Julia en funciones de SymPy, podemos hacer los siguiente:"
   ]
  },
  {
   "cell_type": "markdown",
   "metadata": {
    "hidden": true
   },
   "source": [
    "Primero definimos una función en Julia:"
   ]
  },
  {
   "cell_type": "code",
   "execution_count": 57,
   "metadata": {
    "hidden": true
   },
   "outputs": [],
   "source": [
    "function r(x)\n",
    "   return x^2 \n",
    "end;"
   ]
  },
  {
   "cell_type": "markdown",
   "metadata": {
    "hidden": true
   },
   "source": [
    "Luego, como ya definimos $x$ como una variable simbólica, simplemente evaluamos nuestra función en dicha variable:"
   ]
  },
  {
   "cell_type": "code",
   "execution_count": 58,
   "metadata": {
    "hidden": true
   },
   "outputs": [
    {
     "data": {
      "text/latex": [
       "$$x^{2}$$"
      ],
      "text/plain": [
       " 2\n",
       "x "
      ]
     },
     "execution_count": 58,
     "metadata": {},
     "output_type": "execute_result"
    }
   ],
   "source": [
    "r(x)"
   ]
  },
  {
   "cell_type": "markdown",
   "metadata": {
    "hidden": true
   },
   "source": [
    "Ya podemos, por ejemplo, derivar sin problema:"
   ]
  },
  {
   "cell_type": "code",
   "execution_count": 59,
   "metadata": {
    "hidden": true
   },
   "outputs": [
    {
     "data": {
      "text/latex": [
       "$$2 x$$"
      ],
      "text/plain": [
       "2⋅x"
      ]
     },
     "execution_count": 59,
     "metadata": {},
     "output_type": "execute_result"
    }
   ],
   "source": [
    "diff(r(x),x)"
   ]
  },
  {
   "cell_type": "code",
   "execution_count": 60,
   "metadata": {
    "hidden": true
   },
   "outputs": [
    {
     "data": {
      "text/latex": [
       "$$- 2 x \\sin{\\left (x^{2} \\right )}$$"
      ],
      "text/plain": [
       "        ⎛ 2⎞\n",
       "-2⋅x⋅sin⎝x ⎠"
      ]
     },
     "execution_count": 60,
     "metadata": {},
     "output_type": "execute_result"
    }
   ],
   "source": [
    "diff(cos(r(x)),x)"
   ]
  },
  {
   "cell_type": "markdown",
   "metadata": {
    "hidden": true
   },
   "source": [
    "## Evaluación de funciones sobre vectores e intervalos"
   ]
  },
  {
   "cell_type": "markdown",
   "metadata": {
    "hidden": true
   },
   "source": [
    "Ya se comentó en la clase anterior que para pasar arreglos u otros objetos como los que construimos con _range_ y _linspace_ a una función, típicamente bastaba con hacer `f(x)` donde $x$ es un arreglo, sin embargo la versión más reciente de Julia nos pide que lo escribamos como `f.(x)`. Por ej: `cos.(x)`."
   ]
  },
  {
   "cell_type": "markdown",
   "metadata": {
    "hidden": true
   },
   "source": [
    "Recordemos la función rango:"
   ]
  },
  {
   "cell_type": "code",
   "execution_count": 32,
   "metadata": {
    "hidden": true
   },
   "outputs": [
    {
     "data": {
      "text/plain": [
       "UnitRange{Int64}"
      ]
     },
     "execution_count": 32,
     "metadata": {},
     "output_type": "execute_result"
    }
   ],
   "source": [
    "typeof(1:3)"
   ]
  },
  {
   "cell_type": "markdown",
   "metadata": {
    "hidden": true
   },
   "source": [
    "Podemos pedir el rango a pasos diferentes:"
   ]
  },
  {
   "cell_type": "code",
   "execution_count": 86,
   "metadata": {
    "hidden": true
   },
   "outputs": [
    {
     "data": {
      "text/plain": [
       "StepRangeLen{Float64,Base.TwicePrecision{Float64},Base.TwicePrecision{Float64}}"
      ]
     },
     "execution_count": 86,
     "metadata": {},
     "output_type": "execute_result"
    }
   ],
   "source": [
    "a=1:0.02:3\n",
    "typeof(a)"
   ]
  },
  {
   "cell_type": "code",
   "execution_count": 92,
   "metadata": {
    "hidden": true
   },
   "outputs": [
    {
     "data": {
      "text/plain": [
       "StepRangeLen{Float64,Base.TwicePrecision{Float64},Base.TwicePrecision{Float64}}"
      ]
     },
     "execution_count": 92,
     "metadata": {},
     "output_type": "execute_result"
    }
   ],
   "source": [
    "b=linspace(1.0,3.0,101)\n",
    "typeof(b)"
   ]
  },
  {
   "cell_type": "code",
   "execution_count": 93,
   "metadata": {
    "hidden": true
   },
   "outputs": [
    {
     "data": {
      "text/plain": [
       "0.02"
      ]
     },
     "execution_count": 93,
     "metadata": {},
     "output_type": "execute_result"
    }
   ],
   "source": [
    "(3-1)/100"
   ]
  },
  {
   "cell_type": "code",
   "execution_count": 94,
   "metadata": {
    "hidden": true
   },
   "outputs": [
    {
     "data": {
      "text/plain": [
       "true"
      ]
     },
     "execution_count": 94,
     "metadata": {},
     "output_type": "execute_result"
    }
   ],
   "source": [
    "a==b"
   ]
  },
  {
   "cell_type": "code",
   "execution_count": 95,
   "metadata": {
    "hidden": true
   },
   "outputs": [
    {
     "data": {
      "text/plain": [
       "3.0"
      ]
     },
     "execution_count": 95,
     "metadata": {},
     "output_type": "execute_result"
    }
   ],
   "source": [
    "last(a)"
   ]
  },
  {
   "cell_type": "code",
   "execution_count": 96,
   "metadata": {
    "hidden": true
   },
   "outputs": [
    {
     "data": {
      "text/plain": [
       "3.0"
      ]
     },
     "execution_count": 96,
     "metadata": {},
     "output_type": "execute_result"
    }
   ],
   "source": [
    "last(b)"
   ]
  },
  {
   "cell_type": "code",
   "execution_count": 97,
   "metadata": {
    "hidden": true
   },
   "outputs": [
    {
     "data": {
      "text/plain": [
       "101"
      ]
     },
     "execution_count": 97,
     "metadata": {},
     "output_type": "execute_result"
    }
   ],
   "source": [
    "length(b)"
   ]
  },
  {
   "cell_type": "markdown",
   "metadata": {
    "hidden": true
   },
   "source": [
    "Evaluamos ahora la función que definimos arriba en un intervalo:"
   ]
  },
  {
   "cell_type": "code",
   "execution_count": 99,
   "metadata": {
    "hidden": true
   },
   "outputs": [
    {
     "data": {
      "text/plain": [
       "100-element Array{Float64,1}:\n",
       " -3.16228\n",
       " -3.16216\n",
       " -3.1618 \n",
       " -3.16121\n",
       " -3.16039\n",
       " -3.15932\n",
       " -3.15802\n",
       " -3.15648\n",
       " -3.1547 \n",
       " -3.15268\n",
       " -3.15043\n",
       " -3.14793\n",
       " -3.14519\n",
       "  ⋮      \n",
       " -1.93985\n",
       " -1.90128\n",
       " -1.86155\n",
       " -1.82062\n",
       " -1.77842\n",
       " -1.73491\n",
       " -1.69002\n",
       " -1.6437 \n",
       " -1.59587\n",
       " -1.54646\n",
       " -1.49539\n",
       " -1.44259"
      ]
     },
     "execution_count": 99,
     "metadata": {},
     "output_type": "execute_result"
    }
   ],
   "source": [
    "ff.(linspace(0.0,1.0,100))"
   ]
  },
  {
   "cell_type": "markdown",
   "metadata": {},
   "source": [
    "# Métodos para buscar raíces"
   ]
  },
  {
   "cell_type": "markdown",
   "metadata": {},
   "source": [
    "## Método de bisección \n",
    "Para aplicar este método consideremos tres sucesiones $a_n \\le p_n \\le b_n$ definidas por las siguientes relaciones\n",
    "\n",
    "$$ p_n = \\frac{a_n+b_n}{2},\n",
    "\\quad a_{n+1} = \\begin{cases}\n",
    "a_n & \\mbox{si } f(a_n)\\cdot f(p_n) <0 \\\\\n",
    "p_n & \\mbox{si } f(a_n)\\cdot f(p_n) > 0\\end{cases},\n",
    "\\quad b_{n+1} = \\begin{cases}\n",
    "b_n & \\mbox{si } f(b_n)\\cdot f(p_n) < 0 \\\\\n",
    "p_n & \\mbox{si } f(b_n)\\cdot f(p_n) > 0\\end{cases}$$\n",
    "\n",
    "Donde los valores iniciales vienen dados por:\n",
    "\n",
    "$$a_0 := a, \\quad b_0 := b.$$\n",
    "\n",
    "Se puede probrar que las tres sucesiones convergen al valor de la única raíz del intervalo:\n",
    "\n",
    "$$ \\lim_{n \\to \\infty} a_n = \\lim_{n \\to \\infty} p_n = \\lim_{n \\to \\infty} b_n.$$"
   ]
  },
  {
   "cell_type": "markdown",
   "metadata": {},
   "source": [
    "### Ejemplo método de bisección\n",
    "\n",
    "Para la función $f(x) = x^3-x-2$"
   ]
  },
  {
   "cell_type": "code",
   "execution_count": 68,
   "metadata": {},
   "outputs": [],
   "source": [
    "function biseccion(a,b)\n",
    "    p = (a+b)/2\n",
    "    f(x) = x^3-x-2\n",
    "    for i in 1:50\n",
    "        if  f(a)*f(p) > 0\n",
    "            a = p\n",
    "        end\n",
    "        \n",
    "        if f(b)*f(p) > 0\n",
    "            b = p\n",
    "        end\n",
    "        p = (a+b)/2\n",
    "    end\n",
    "    return p,f(p)\n",
    "end;"
   ]
  },
  {
   "cell_type": "code",
   "execution_count": 69,
   "metadata": {},
   "outputs": [
    {
     "data": {
      "text/plain": [
       "(1.5213797068045674, -1.3322676295501878e-15)"
      ]
     },
     "execution_count": 69,
     "metadata": {},
     "output_type": "execute_result"
    }
   ],
   "source": [
    "biseccion(0,2)"
   ]
  },
  {
   "cell_type": "markdown",
   "metadata": {},
   "source": [
    "# Ejercicio/Tarea Martes 29 de Agosto"
   ]
  },
  {
   "cell_type": "markdown",
   "metadata": {},
   "source": [
    "__Utilizar lo que hemos visto hasta ahora de Julia para:__\n",
    "\n",
    "1. Graficar como convergen $4$ condiciones iniciales a las raiz real de $x^3 - x^2 - x - 1$ utilizando el método de Newton. Ésto básicamente es gráficar como se mueven los puntos $x_k$, luego grafiquen el error relativo a la raiz, es decir $(x_k-S)/S$, donde $S$ es la raiz.\n",
    "\n",
    "2. Crear una función en Julia que implemente el método de Newton para funciones arbitrarias. Deberán crearla con las siguientes consideraciones:\n",
    "    * Que tome como argumentos tanto a la función, su derivada y la condición inicial.\n",
    "    * Hacer la misma función pero que en lugar de tomar como argumento una condición inicial, tome un intervalo, por ejemplo costruido con `linspace`, recordando que hay que llamar a las funciones con un punto `f.(x)`.\n",
    "    * Combinar las dos formas en una sola rutina, aqui será necesario poner un condicional `if` que verifique de que tipo es el _input_.\n",
    "    * Finalmente, desarrollen una función similar a la anterior, siguiendo los mismos pasos, pero esta vez que los _inputs_ de la función del método sea solamente la función y la condición (o intervalo) inicial.\n",
    "        * Para esto deberán usar lo que aprendimos de SymPy y como podemos convertir y/o evaluar funciones tanto en simbolos como en flotantes.\n",
    "        \n",
    "__Nota:__ Se resolveran dudas de esta tarea el Jueves 24, así que traten de avanzar para que surjan dudas."
   ]
  }
 ],
 "metadata": {
  "kernelspec": {
   "display_name": "Julia 0.6.0",
   "language": "julia",
   "name": "julia-0.6"
  },
  "language_info": {
   "file_extension": ".jl",
   "mimetype": "application/julia",
   "name": "julia",
   "version": "0.6.0"
  },
  "latex_envs": {
   "bibliofile": "biblio.bib",
   "cite_by": "apalike",
   "current_citInitial": 1,
   "eqLabelWithNumbers": true,
   "eqNumInitial": 0
  }
 },
 "nbformat": 4,
 "nbformat_minor": 1
}
